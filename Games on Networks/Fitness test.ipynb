{
 "cells": [
  {
   "cell_type": "markdown",
   "metadata": {},
   "source": [
    "# Function test"
   ]
  },
  {
   "cell_type": "code",
   "execution_count": 2,
   "metadata": {},
   "outputs": [
    {
     "name": "stdout",
     "output_type": "stream",
     "text": [
      "Populating the interactive namespace from numpy and matplotlib\n"
     ]
    }
   ],
   "source": [
    "%pylab inline\n",
    "import networkx as nx"
   ]
  },
  {
   "cell_type": "code",
   "execution_count": 115,
   "metadata": {},
   "outputs": [],
   "source": [
    "def get_neighbours_list(G,node):\n",
    "    adj = [(n,nbrdict) for n, nbrdict in G.adjacency() if n==node]\n",
    "    return list(adj[0][1].keys())\n",
    "def death_birth_fitness(G,node):\n",
    "    b = 10\n",
    "    c = 1\n",
    "    w=0.01\n",
    "    C_fitness = D_fitness = 0\n",
    "    # get all neighbours of cell\n",
    "    neighbours = get_neighbours_list(G,node)\n",
    "    for nbr in neighbours:\n",
    "#         print(f'Neighbour {nbr} is {G.nodes[nbr][\"name\"]}')\n",
    "        # find it's neighbours\n",
    "        nbr_list = get_neighbours_list(G,nbr)\n",
    "        num_C = num_D = 0\n",
    "        for nb in nbr_list:\n",
    "#             print(f'\\tNeighbour {nb} is {G.nodes[nb][\"name\"]}')\n",
    "            \n",
    "            if G.nodes[nb]['name'] == 'C':\n",
    "                num_C += 1\n",
    "            elif G.nodes[nb]['name'] == 'D':\n",
    "                num_D += 1\n",
    "        if G.nodes[nbr]['name'] == 'C':\n",
    "                C_fitness += 1-w+w*(num_C*b - c*(num_C+num_D))\n",
    "        elif G.nodes[nbr]['name'] == 'D':\n",
    "                D_fitness += 1-w+w*(num_C*b)\n",
    "#         print(f'D fitness is { D_fitness }')\n",
    "    fitnesses = [C_fitness, D_fitness]\n",
    "    return np.array(fitnesses)#/sum(fitnesses)"
   ]
  },
  {
   "cell_type": "code",
   "execution_count": 6,
   "metadata": {},
   "outputs": [],
   "source": [
    "edge_list = [\n",
    "    (1,2),(1,4),(2,3),(2,7),\n",
    "    (2,5),(2,6),(3,5),(3,6),\n",
    "    (4,5),(4,7),(5,7),(5,10),\n",
    "    (5,6),(5,11),(5,14),(7,8),\n",
    "    (7,9),(9,10),(10,12),(10,13),\n",
    "    (11,13),(11,14),(12,13)    \n",
    "]\n",
    "node_list = ['C','C','D','C','D','C','C','C','C','D','D','D','D','D']"
   ]
  },
  {
   "cell_type": "code",
   "execution_count": 77,
   "metadata": {},
   "outputs": [
    {
     "data": {
      "image/png": "[encoded data removed]",
      "text/plain": [
       "<Figure size 432x288 with 1 Axes>"
      ]
     },
     "metadata": {},
     "output_type": "display_data"
    }
   ],
   "source": [
    "G = nx.Graph()\n",
    "for index, player in enumerate(node_list):\n",
    "    G.add_node(index+1, name=player)\n",
    "G.add_edges_from(edge_list)\n",
    "nx.draw(G, with_labels=True)"
   ]
  },
  {
   "cell_type": "code",
   "execution_count": 116,
   "metadata": {},
   "outputs": [
    {
     "data": {
      "text/plain": [
       "array([4.8 , 4.26])"
      ]
     },
     "execution_count": 116,
     "metadata": {},
     "output_type": "execute_result"
    }
   ],
   "source": [
    "death_birth_fitness(G,5)"
   ]
  },
  {
   "cell_type": "code",
   "execution_count": 87,
   "metadata": {},
   "outputs": [
    {
     "data": {
      "text/plain": [
       "0.4701986754966888"
      ]
     },
     "execution_count": 87,
     "metadata": {},
     "output_type": "execute_result"
    }
   ],
   "source": [
    "4.26/(4.8+4.26)"
   ]
  },
  {
   "cell_type": "code",
   "execution_count": 90,
   "metadata": {},
   "outputs": [
    {
     "data": {
      "text/plain": [
       "4.26"
      ]
     },
     "execution_count": 90,
     "metadata": {},
     "output_type": "execute_result"
    }
   ],
   "source": [
    "4*.99+.3"
   ]
  },
  {
   "cell_type": "markdown",
   "metadata": {},
   "source": [
    "#### Calculate fixation probablity for a complete graph"
   ]
  },
  {
   "cell_type": "code",
   "execution_count": 9,
   "metadata": {},
   "outputs": [
    {
     "data": {
      "text/plain": [
       "0.012923107606964827"
      ]
     },
     "execution_count": 9,
     "metadata": {},
     "output_type": "execute_result"
    }
   ],
   "source": [
    "b=10\n",
    "c=1\n",
    "w=0.01\n",
    "def fitness_ratio(num_A):\n",
    "    N = 100\n",
    "    return (1-w+w*(b*num_A - N*c))/(1-w+w*(b*num_A))   \n",
    "\n",
    "sum = 0\n",
    "for i in range(100):\n",
    "    sum += fitness_ratio(i+1)\n",
    "1/(1+sum)"
   ]
  },
  {
   "cell_type": "code",
   "execution_count": 1,
   "metadata": {},
   "outputs": [],
   "source": [
    "added = sum([1/(10i+1-0.01) for i in range(100)])"
   ]
  },
  {
   "cell_type": "code",
   "execution_count": 2,
   "metadata": {},
   "outputs": [
    {
     "data": {
      "text/plain": [
       "0.020355726571513952"
      ]
     },
     "execution_count": 2,
     "metadata": {},
     "output_type": "execute_result"
    }
   ],
   "source": [
    "1/(1+100*(1-added/10))"
   ]
  }
 ],
 "metadata": {
  "kernelspec": {
   "display_name": "Python 3",
   "language": "python",
   "name": "python3"
  },
  "language_info": {
   "codemirror_mode": {
    "name": "ipython",
    "version": 3
   },
   "file_extension": ".py",
   "mimetype": "text/x-python",
   "name": "python",
   "nbconvert_exporter": "python",
   "pygments_lexer": "ipython3",
   "version": "3.6.6"
  }
 },
 "nbformat": 4,
 "nbformat_minor": 2
}
