{
 "cells": [
  {
   "cell_type": "code",
   "execution_count": 3,
   "metadata": {},
   "outputs": [
    {
     "name": "stdout",
     "output_type": "stream",
     "text": [
      "Populating the interactive namespace from numpy and matplotlib\n"
     ]
    }
   ],
   "source": [
    "%pylab inline\n",
    "from tqdm import tqdm_notebook"
   ]
  },
  {
   "cell_type": "markdown",
   "metadata": {},
   "source": [
    "# Assignment 3"
   ]
  },
  {
   "cell_type": "markdown",
   "metadata": {},
   "source": [
    "## Selection with Mutation"
   ]
  },
  {
   "cell_type": "code",
   "execution_count": 6,
   "metadata": {},
   "outputs": [
    {
     "data": {
      "application/vnd.jupyter.widget-view+json": {
       "model_id": "20b8626d685940c38210fd20284ed6eb",
       "version_major": 2,
       "version_minor": 0
      },
      "text/plain": [
       "HBox(children=(IntProgress(value=0, max=1000), HTML(value='')))"
      ]
     },
     "metadata": {},
     "output_type": "display_data"
    },
    {
     "name": "stdout",
     "output_type": "stream",
     "text": [
      "\n"
     ]
    },
    {
     "data": {
      "text/plain": [
       "1000"
      ]
     },
     "execution_count": 6,
     "metadata": {},
     "output_type": "execute_result"
    },
    {
     "data": {
      "image/png": "[encoded data removed]",
      "text/plain": [
       "<Figure size 432x288 with 1 Axes>"
      ]
     },
     "metadata": {},
     "output_type": "display_data"
    }
   ],
   "source": [
    "from numpy.random import random, randint\n",
    "\n",
    "fitness_A = 1.001 # 0\n",
    "fitness_B = 1     # 1\n",
    "\n",
    "mutation_A = 0.01 # 0 to 1\n",
    "mutation_B = 0.00 # 1 to 0\n",
    "\n",
    "norm_fit_A = fitness_A/(fitness_A+fitness_B)\n",
    "norm_fit_B = fitness_B/(fitness_A+fitness_B)\n",
    "\n",
    "N=10000\n",
    "population  =[ 0 for i in range(N)]\n",
    "\n",
    "def fitness(member):\n",
    "    return norm_fit_B if member else norm_fit_A\n",
    "\n",
    "def mutate(member):\n",
    "    return mutation_B if member else mutation_A\n",
    "\n",
    "\n",
    "def mutation_constant_selection(population):\n",
    "    history = []\n",
    "    for _ in tqdm_notebook(range(int(1000))):\n",
    "        mutated_parent = [ not member if random()<mutate(member) else member for member in population ]\n",
    "        population = mutated_parent\n",
    "        offspring = []\n",
    "        while len(offspring) < N:\n",
    "            reproduce = randint(0,N)\n",
    "            if random() < fitness(population[reproduce]):\n",
    "                offspring.append(population[reproduce])\n",
    "        population = offspring\n",
    "        history.append(sum(population)/N)\n",
    "    return history\n",
    "\n",
    "evol = mutation_constant_selection(population)\n",
    "plot(evol)\n",
    "len(evol)"
   ]
  },
  {
   "cell_type": "code",
   "execution_count": 7,
   "metadata": {},
   "outputs": [
    {
     "data": {
      "application/vnd.jupyter.widget-view+json": {
       "model_id": "6402987a7e1a4c9aa91bf33e8e551bd2",
       "version_major": 2,
       "version_minor": 0
      },
      "text/plain": [
       "HBox(children=(IntProgress(value=0, max=1000), HTML(value='')))"
      ]
     },
     "metadata": {},
     "output_type": "display_data"
    },
    {
     "name": "stdout",
     "output_type": "stream",
     "text": [
      "\n"
     ]
    }
   ],
   "source": [
    "from numpy.random import random, randint\n",
    "\n",
    "fitness_A = 1.1   # 0\n",
    "fitness_B = 1     # 1\n",
    "\n",
    "mutation_A = 0.01 # 0 to 1\n",
    "mutation_B = 0.00 # 1 to 0\n",
    "\n",
    "norm_fit_A = fitness_A/(fitness_A+fitness_B)\n",
    "norm_fit_B = fitness_B/(fitness_A+fitness_B)\n",
    "\n",
    "N=10000\n",
    "population  =[ 0 if i<N//2 else 1 for i in range(N)]\n",
    "\n",
    "def fitness(member):\n",
    "    return norm_fit_B if member else norm_fit_A\n",
    "\n",
    "def mutate(member):\n",
    "    return mutation_B if member else mutation_A\n",
    "\n",
    "def mutation_constant_selection(population):\n",
    "    history = []\n",
    "    for _ in tqdm_notebook(range(int(1000))):\n",
    "        mutated_parent = [ not member if random()<mutate(member) else member for member in population ]\n",
    "        population = mutated_parent\n",
    "        offspring = []\n",
    "        while len(offspring) < N:\n",
    "            reproduce = randint(0,N)\n",
    "            if random() < fitness(population[reproduce]):\n",
    "                offspring.append(population[reproduce])\n",
    "        population = offspring\n",
    "        history.append(sum(population)/N)\n",
    "    return history\n",
    "\n",
    "evol = mutation_constant_selection(population)"
   ]
  },
  {
   "cell_type": "code",
   "execution_count": 8,
   "metadata": {},
   "outputs": [
    {
     "data": {
      "text/plain": [
       "1000"
      ]
     },
     "execution_count": 8,
     "metadata": {},
     "output_type": "execute_result"
    },
    {
     "data": {
      "image/png": "[encoded data removed]",
      "text/plain": [
       "<Figure size 432x288 with 1 Axes>"
      ]
     },
     "metadata": {},
     "output_type": "display_data"
    }
   ],
   "source": [
    "plot(evol)\n",
    "len(evol)"
   ]
  },
  {
   "cell_type": "code",
   "execution_count": 11,
   "metadata": {},
   "outputs": [
    {
     "data": {
      "text/plain": [
       "0.10053166666666666"
      ]
     },
     "execution_count": 11,
     "metadata": {},
     "output_type": "execute_result"
    }
   ],
   "source": [
    "np.mean(evol[100:])"
   ]
  },
  {
   "cell_type": "code",
   "execution_count": 13,
   "metadata": {},
   "outputs": [
    {
     "data": {
      "application/vnd.jupyter.widget-view+json": {
       "model_id": "88c7dbc6c50b44f0b342f0c0cccdf932",
       "version_major": 2,
       "version_minor": 0
      },
      "text/plain": [
       "HBox(children=(IntProgress(value=0, max=1000), HTML(value='')))"
      ]
     },
     "metadata": {},
     "output_type": "display_data"
    },
    {
     "name": "stdout",
     "output_type": "stream",
     "text": [
      "\n"
     ]
    },
    {
     "data": {
      "text/plain": [
       "[<matplotlib.lines.Line2D at 0x255108cd898>]"
      ]
     },
     "execution_count": 13,
     "metadata": {},
     "output_type": "execute_result"
    },
    {
     "data": {
      "image/png": "[encoded data removed]",
      "text/plain": [
       "<Figure size 432x288 with 1 Axes>"
      ]
     },
     "metadata": {},
     "output_type": "display_data"
    }
   ],
   "source": [
    "from numpy.random import random, randint\n",
    "\n",
    "fitness_A = 1.1   # 0\n",
    "fitness_B = 1     # 1\n",
    "\n",
    "mutation_A = 0.01 # 0 to 1\n",
    "mutation_B = 0.00 # 1 to 0\n",
    "\n",
    "norm_fit_A = fitness_A/(fitness_A+fitness_B)\n",
    "norm_fit_B = fitness_B/(fitness_A+fitness_B)\n",
    "\n",
    "N=100\n",
    "population  =[ 0 if i<N//2 else 1 for i in range(N)]\n",
    "\n",
    "def fitness(member):\n",
    "    return norm_fit_B if member else norm_fit_A\n",
    "\n",
    "def mutate(member):\n",
    "    return mutation_B if member else mutation_A\n",
    "\n",
    "def mutation_constant_selection(population):\n",
    "    history = []\n",
    "    for _ in tqdm_notebook(range(int(1000))):\n",
    "        mutated_parent = [ not member if random()<mutate(member) else member for member in population ]\n",
    "        population = mutated_parent\n",
    "        offspring = []\n",
    "        while len(offspring) < N:\n",
    "            reproduce = randint(0,N)\n",
    "            if random() < fitness(population[reproduce]):\n",
    "                offspring.append(population[reproduce])\n",
    "        population = offspring\n",
    "        history.append(sum(population)/N)\n",
    "    return history\n",
    "\n",
    "evol = mutation_constant_selection(population)\n",
    "plot(evol)"
   ]
  },
  {
   "cell_type": "code",
   "execution_count": 14,
   "metadata": {},
   "outputs": [
    {
     "data": {
      "text/plain": [
       "0.18"
      ]
     },
     "execution_count": 14,
     "metadata": {},
     "output_type": "execute_result"
    }
   ],
   "source": [
    "np.mean(evol[100])"
   ]
  }
 ],
 "metadata": {
  "kernelspec": {
   "display_name": "Python 3",
   "language": "python",
   "name": "python3"
  },
  "language_info": {
   "codemirror_mode": {
    "name": "ipython",
    "version": 3
   },
   "file_extension": ".py",
   "mimetype": "text/x-python",
   "name": "python",
   "nbconvert_exporter": "python",
   "pygments_lexer": "ipython3",
   "version": "3.6.5"
  },
  "varInspector": {
   "cols": {
    "lenName": 16,
    "lenType": 16,
    "lenVar": 40
   },
   "kernels_config": {
    "python": {
     "delete_cmd_postfix": "",
     "delete_cmd_prefix": "del ",
     "library": "var_list.py",
     "varRefreshCmd": "print(var_dic_list())"
    },
    "r": {
     "delete_cmd_postfix": ") ",
     "delete_cmd_prefix": "rm(",
     "library": "var_list.r",
     "varRefreshCmd": "cat(var_dic_list()) "
    }
   },
   "types_to_exclude": [
    "module",
    "function",
    "builtin_function_or_method",
    "instance",
    "_Feature"
   ],
   "window_display": false
  }
 },
 "nbformat": 4,
 "nbformat_minor": 2
}
